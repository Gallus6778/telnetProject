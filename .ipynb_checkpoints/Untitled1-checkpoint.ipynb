{
 "cells": [
  {
   "cell_type": "code",
   "execution_count": null,
   "metadata": {},
   "outputs": [
    {
     "name": "stdout",
     "output_type": "stream",
     "text": [
      "connexion en cours 1 ...\n",
      "connexion en cours 2 ...\n",
      "connexion en cours 3 ...\n",
      "Successfully connected to 10.124.206.68\n",
      "test\n"
     ]
    }
   ],
   "source": [
    "import telnetlib\n",
    "import time\n",
    "\n",
    "port = 23\n",
    "server_ip = \"10.124.206.68\"\n",
    "# server_ip = '192.168.1.68'\n",
    "\n",
    "password = \"1234567890\"\n",
    "username = \"CHATBO\"\n",
    "\n",
    "tn = telnetlib.Telnet(server_ip, port)\n",
    "\n",
    "print('connexion en cours 1 ...')\n",
    "# tn.read_until(b\"Username: \")\n",
    "\n",
    "tn.write(username.encode() + b\"\\n\")\n",
    "\n",
    "print('connexion en cours 2 ...')\n",
    "\n",
    "# tn.read_until(b\"Password: \")\n",
    "\n",
    "tn.write(password.encode() + b\"\\n\")\n",
    "\n",
    "print('connexion en cours 3 ...')\n",
    "\n",
    "print(\"Successfully connected to %s\" % server_ip)\n",
    "tn.write(b\"ZMMI:MSISDN=237662165358:;\\n\")\n",
    "\n",
    "print(\"test\")\n",
    "\n",
    "# time.sleep(1)\n",
    "\n",
    "# output = tn.read_very_eager()\n",
    "\n",
    "output = tn.read_all()\n",
    "output = output.decode('utf8')\n",
    "print(output)\n",
    "print(\"done\")"
   ]
  }
 ],
 "metadata": {
  "kernelspec": {
   "display_name": "Python 3",
   "language": "python",
   "name": "python3"
  },
  "language_info": {
   "codemirror_mode": {
    "name": "ipython",
    "version": 3
   },
   "file_extension": ".py",
   "mimetype": "text/x-python",
   "name": "python",
   "nbconvert_exporter": "python",
   "pygments_lexer": "ipython3",
   "version": "3.8.5"
  }
 },
 "nbformat": 4,
 "nbformat_minor": 4
}
